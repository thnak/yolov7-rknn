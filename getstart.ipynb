{
 "cells": [
  {
   "cell_type": "raw",
   "source": [
    "setup export enviroment"
   ],
   "metadata": {
    "collapsed": false
   }
  },
  {
   "cell_type": "code",
   "execution_count": null,
   "outputs": [],
   "source": [
    "!git clone https://github.com/thnak/yolov7.git\n",
    "!pip install -r /content/yolov7/requirements.txt"
   ],
   "metadata": {
    "collapsed": false
   }
  },
  {
   "cell_type": "code",
   "execution_count": null,
   "outputs": [],
   "source": [
    "%cd yolov7"
   ],
   "metadata": {
    "collapsed": false
   }
  },
  {
   "cell_type": "code",
   "execution_count": null,
   "outputs": [],
   "source": [
    "!wget https://github.com/WongKinYiu/yolov7/releases/download/v0.1/yolov7-tiny.pt\n",
    "# or !wget https://github.com/WongKinYiu/yolov7/releases/download/v0.1/yolov7.pt for another model\n",
    "# other models (w6, e6, e6e, d6) do not support quantization and nothing is detected when predicting. I will do that in the future\n",
    "!python3 export.py --weights yolov7-tiny.pt --include rknn\n",
    "# you can also train with your own custom dataset with this repo\n",
    "# ReLU/LeakyReLu/Sidmoid/PReLU is recommend activation from rknn-toolkit. see also https://github.com/rockchip-linux/rknn-toolkit2/blob/master/doc/Rockchip_User_Guide_RKNN_Toolkit2_EN-1.5.0.pdf"
   ],
   "metadata": {
    "collapsed": false
   }
  },
  {
   "cell_type": "code",
   "execution_count": null,
   "outputs": [],
   "source": [
    "# let's start with rknn\n",
    "%cd\n",
    "!git clone https://github.com/thnak/yolov7-rknn"
   ],
   "metadata": {
    "collapsed": false
   }
  },
  {
   "cell_type": "code",
   "execution_count": null,
   "outputs": [],
   "source": [
    "#!make sure you installed rknn-toolkit from https://github.com/rockchip-linux"
   ],
   "metadata": {
    "collapsed": false
   }
  },
  {
   "cell_type": "code",
   "execution_count": null,
   "outputs": [],
   "source": [
    "#copy .onnx model to yolov7-rknn"
   ],
   "metadata": {
    "collapsed": false
   }
  },
  {
   "cell_type": "code",
   "execution_count": null,
   "outputs": [],
   "source": [
    "%cd yolov7-rknn\n",
    "!python3 detect.py\n",
    "# change your model from here ONNX_MODEL = Path('yolov7-tiny.onnx')"
   ],
   "metadata": {
    "collapsed": false
   }
  },
  {
   "cell_type": "code",
   "execution_count": null,
   "outputs": [],
   "source": [
    "# you can change your model path in detect.py and images in dataset.txt"
   ],
   "metadata": {
    "collapsed": false
   }
  }
 ],
 "metadata": {
  "kernelspec": {
   "display_name": "Python 3",
   "language": "python",
   "name": "python3"
  },
  "language_info": {
   "codemirror_mode": {
    "name": "ipython",
    "version": 2
   },
   "file_extension": ".py",
   "mimetype": "text/x-python",
   "name": "python",
   "nbconvert_exporter": "python",
   "pygments_lexer": "ipython2",
   "version": "2.7.6"
  }
 },
 "nbformat": 4,
 "nbformat_minor": 0
}
