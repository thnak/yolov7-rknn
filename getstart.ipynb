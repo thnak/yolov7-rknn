{
 "cells": [
  {
   "cell_type": "code",
   "execution_count": null,
   "metadata": {
    "collapsed": true
   },
   "outputs": [],
   "source": [
    "!git clone https://github.com/thnak/yolov7.git\n",
    "!pip install -r /content/yolov7/requirements.txt\n",
    "#!make sure you installed rknn-toolkit from https://github.com/rockchip-linux"
   ]
  },
  {
   "cell_type": "code",
   "execution_count": null,
   "outputs": [],
   "source": [
    "%cd yolov7"
   ],
   "metadata": {
    "collapsed": false
   }
  },
  {
   "cell_type": "code",
   "execution_count": null,
   "outputs": [],
   "source": [
    "!wget https://github.com/WongKinYiu/yolov7/releases/download/v0.1/yolov7-tiny.pt\n",
    "#or !wget https://github.com/WongKinYiu/yolov7/releases/download/v0.1/yolov7.pt\n",
    "# other model(w6, e6, e6e, d6) is not work for now. because they got ReOrg layer. if you train custom model with v7-tiny or v7 config, it's working!\n",
    "!python3 export.py --weights yours.pt --include rknn\n",
    "# you can also train with your own custom dataset with this repo\n",
    "# WARNING ReLU/LeakyReLu/Sidmoid/PReLU is recommend activation from rknn-toolkit. see also https://github.com/rockchip-linux/rknn-toolkit2/blob/master/doc/Rockchip_User_Guide_RKNN_Toolkit2_EN-1.5.0.pdf"
   ],
   "metadata": {
    "collapsed": false
   }
  },
  {
   "cell_type": "code",
   "execution_count": null,
   "outputs": [],
   "source": [
    "# let's start with rknn\n",
    "%cd\n",
    "!git clone https://github.com/thnak/yolov7-rknn"
   ],
   "metadata": {
    "collapsed": false
   }
  },
  {
   "cell_type": "code",
   "execution_count": null,
   "outputs": [],
   "source": [
    "%cd yolov7-rknn\n",
    "!python3 detect.py"
   ],
   "metadata": {
    "collapsed": false
   }
  },
  {
   "cell_type": "code",
   "execution_count": null,
   "outputs": [],
   "source": [
    "# you can change your model path in detect.py and images in dataset.txt"
   ],
   "metadata": {
    "collapsed": false
   }
  }
 ],
 "metadata": {
  "kernelspec": {
   "display_name": "Python 3",
   "language": "python",
   "name": "python3"
  },
  "language_info": {
   "codemirror_mode": {
    "name": "ipython",
    "version": 2
   },
   "file_extension": ".py",
   "mimetype": "text/x-python",
   "name": "python",
   "nbconvert_exporter": "python",
   "pygments_lexer": "ipython2",
   "version": "2.7.6"
  }
 },
 "nbformat": 4,
 "nbformat_minor": 0
}
